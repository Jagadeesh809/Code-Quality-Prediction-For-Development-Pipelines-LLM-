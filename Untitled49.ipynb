{
 "cells": [
  {
   "cell_type": "markdown",
   "id": "8d272611",
   "metadata": {},
   "source": [
    "# CODE QUALITY PREDICTION IN DEVELOPMENT PIPELINES"
   ]
  },
  {
   "cell_type": "markdown",
   "id": "4fb00293",
   "metadata": {},
   "source": [
    "LLM(Large Language Model)"
   ]
  },
  {
   "cell_type": "code",
   "execution_count": 3,
   "id": "b09ca459",
   "metadata": {},
   "outputs": [],
   "source": [
    "def predict_code_quality(lines_of_code, complexity, maintainability_index):\n",
    "    \"\"\"\n",
    "    Predicts code quality based on simple metrics.\n",
    "\n",
    "    Args:\n",
    "        lines_of_code (int): Number of lines of code.\n",
    "        complexity (int): Cyclomatic complexity of the code.\n",
    "        maintainability_index (int): Maintainability index of the code.\n",
    "\n",
    "    Returns:\n",
    "        str: Code quality assessment (Excellent, Good, Poor).\n",
    "    \"\"\"\n",
    "    # Rule-based quality prediction\n",
    "    if complexity < 10 and maintainability_index > 60 and lines_of_code < 200:\n",
    "        return \"Excellent\"\n",
    "    elif complexity < 20 and maintainability_index > 50 and lines_of_code < 400:\n",
    "        return \"Good\"\n",
    "    else:\n",
    "        return \"Poor\"\n"
   ]
  },
  {
   "cell_type": "code",
   "execution_count": null,
   "id": "d0096c62",
   "metadata": {},
   "outputs": [],
   "source": []
  },
  {
   "cell_type": "code",
   "execution_count": 6,
   "id": "6dcd9321",
   "metadata": {},
   "outputs": [
    {
     "name": "stdout",
     "output_type": "stream",
     "text": [
      "Code Quality Assessment: Excellent\n"
     ]
    }
   ],
   "source": [
    "\n",
    "# Example usage\n",
    "lines_of_code = 150\n",
    "complexity = 7\n",
    "maintainability_index = 70\n",
    "\n",
    "quality_assessment = predict_code_quality(lines_of_code, complexity, maintainability_index)\n",
    "print(\"Code Quality Assessment:\", quality_assessment)\n"
   ]
  },
  {
   "cell_type": "code",
   "execution_count": null,
   "id": "2e73145d",
   "metadata": {},
   "outputs": [],
   "source": []
  }
 ],
 "metadata": {
  "kernelspec": {
   "display_name": "Python 3 (ipykernel)",
   "language": "python",
   "name": "python3"
  },
  "language_info": {
   "codemirror_mode": {
    "name": "ipython",
    "version": 3
   },
   "file_extension": ".py",
   "mimetype": "text/x-python",
   "name": "python",
   "nbconvert_exporter": "python",
   "pygments_lexer": "ipython3",
   "version": "3.10.9"
  }
 },
 "nbformat": 4,
 "nbformat_minor": 5
}
